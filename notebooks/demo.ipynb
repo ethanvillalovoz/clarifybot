{
 "cells": [
  {
   "cell_type": "markdown",
   "metadata": {},
   "source": [
    "# ClarifyBot Demo\n",
    "\n",
    "This notebook demonstrates the RL-driven adaptive question generation and reward modeling capabilities of ClarifyBot. It simulates how the system processes ambiguous human feedback, generates clarification questions using different templates, receives feedback, and adapts its strategy over time.\n",
    "\n",
    "**Key features:**\n",
    "- Explicit RL (bandit) template selection (epsilon-greedy)\n",
    "- Bayesian reward modeling with uncertainty\n",
    "- Logging and analytics of exploration vs. exploitation\n",
    "- Visualization of template rewards, uncertainty, and selection strategy"
   ]
  },
  {
   "cell_type": "code",
   "execution_count": 80,
   "metadata": {},
   "outputs": [],
   "source": [
    "# Import necessary libraries\n",
    "import sys\n",
    "sys.path.append('../src')\n",
    "import random\n",
    "import matplotlib.pyplot as plt\n",
    "import pandas as pd\n",
    "import numpy as np\n",
    "import os\n",
    "from llm.question_generator import QuestionGenerator, PROMPT_TEMPLATES\n",
    "from rl.reward_model import RewardModel"
   ]
  },
  {
   "cell_type": "code",
   "execution_count": 81,
   "metadata": {},
   "outputs": [
    {
     "name": "stdout",
     "output_type": "stream",
     "text": [
      "Loaded log file: ../template_selection.log\n",
      "Columns: ['template_idx', 'mode', 'reward', 'timestamp'] | Rows: 12\n"
     ]
    }
   ],
   "source": [
    "# Robust log file loader for analytics\n",
    "# Always run this cell before any analytics or export cells.\n",
    "LOG_TYPE = 'real'  # Options: 'simulated', 'real'\n",
    "if LOG_TYPE == 'simulated':\n",
    "    LOG_PATH = '../template_selection.log'\n",
    "    LOG_COLUMNS = [\"step\", \"strategy\", \"template_idx\", \"feedback\", \"mode\", \"timestamp\"]\n",
    "else:\n",
    "    LOG_PATH = '../template_selection.log'\n",
    "    LOG_COLUMNS = [\"template_idx\", \"mode\", \"reward\", \"timestamp\"]\n",
    "if os.path.exists(LOG_PATH):\n",
    "    try:\n",
    "        df = pd.read_csv(LOG_PATH, delimiter='\\t')\n",
    "        if len(df.columns) != len(LOG_COLUMNS):\n",
    "            df = pd.read_csv(LOG_PATH, delimiter='\\t', names=LOG_COLUMNS)\n",
    "    except Exception:\n",
    "        df = pd.read_csv(LOG_PATH, delimiter='\\t', names=LOG_COLUMNS)\n",
    "else:\n",
    "    df = pd.DataFrame(columns=LOG_COLUMNS)\n",
    "print(f\"Loaded log file: {LOG_PATH}\")\n",
    "print(f\"Columns: {list(df.columns)} | Rows: {len(df)}\")\n",
    "if df.empty:\n",
    "    print(\"Warning: The log file is empty. Run the experiment/app to generate data.\")"
   ]
  },
  {
   "cell_type": "markdown",
   "metadata": {},
   "source": [
    "## Step 1: Simulate Ambiguous Human Feedback\n",
    "\n",
    "We will simulate a sequence of ambiguous feedbacks that ClarifyBot will process interactively."
   ]
  },
  {
   "cell_type": "code",
   "execution_count": 82,
   "metadata": {},
   "outputs": [],
   "source": [
    "# Simulated ambiguous feedbacks\n",
    "ambiguous_feedbacks = [\n",
    "    \"I like the idea of a robot helping me, but I'm not sure about the speed.\",\n",
    "    \"The robot should be friendly, but I also want it to be efficient.\",\n",
    "    \"I want the assistant to be proactive, but not intrusive.\",\n",
    "    \"I care about privacy, but I also want convenience.\"\n",
    "]"
   ]
  },
  {
   "cell_type": "markdown",
   "metadata": {},
   "source": [
    "## Step 2: Interactive RL Loop - Generate Questions, Simulate Feedback, and Update Rewards\n",
    "\n",
    "For each feedback, ClarifyBot will:\n",
    "- Select a question template based on current rewards (bandit policy)\n",
    "- Generate clarification questions\n",
    "- Simulate user feedback (random thumbs up/down)\n",
    "- Update the template's reward model\n",
    "- Log template selection and mode (explore/exploit)"
   ]
  },
  {
   "cell_type": "code",
   "execution_count": 83,
   "metadata": {},
   "outputs": [
    {
     "name": "stdout",
     "output_type": "stream",
     "text": [
      "\n",
      "--- Round 1 ---\n",
      "Feedback: I like the idea of a robot helping me, but I'm not sure about the speed.\n",
      "Template used: 2 (mode: exploit)\n",
      "Q1: What do you mean by 'I like the idea of a robot helping me, but I'm not sure about the speed.'?\n",
      "Q2: Can you clarify your preference regarding 'I like the idea of a robot helping me, but I'm not sure about the speed.'?\n",
      "Q3: Could you provide more details about 'I like the idea of a robot helping me, but I'm not sure about the speed.'?\n",
      "Simulated user feedback (reward): 0\n",
      "\n",
      "--- Round 2 ---\n",
      "Feedback: The robot should be friendly, but I also want it to be efficient.\n",
      "Template used: 1 (mode: exploit)\n",
      "Q1: What do you mean by 'The robot should be friendly, but I also want it to be efficient.'?\n",
      "Q2: Can you clarify your preference regarding 'The robot should be friendly, but I also want it to be efficient.'?\n",
      "Q3: Could you provide more details about 'The robot should be friendly, but I also want it to be efficient.'?\n",
      "Simulated user feedback (reward): 1\n",
      "\n",
      "--- Round 3 ---\n",
      "Feedback: I want the assistant to be proactive, but not intrusive.\n",
      "Template used: 1 (mode: explore)\n",
      "Q1: What do you mean by 'I want the assistant to be proactive, but not intrusive.'?\n",
      "Q2: Can you clarify your preference regarding 'I want the assistant to be proactive, but not intrusive.'?\n",
      "Q3: Could you provide more details about 'I want the assistant to be proactive, but not intrusive.'?\n",
      "Simulated user feedback (reward): 0\n",
      "\n",
      "--- Round 4 ---\n",
      "Feedback: I care about privacy, but I also want convenience.\n",
      "Template used: 1 (mode: exploit)\n",
      "Q1: What do you mean by 'I care about privacy, but I also want convenience.'?\n",
      "Q2: Can you clarify your preference regarding 'I care about privacy, but I also want convenience.'?\n",
      "Q3: Could you provide more details about 'I care about privacy, but I also want convenience.'?\n",
      "Simulated user feedback (reward): 0\n"
     ]
    }
   ],
   "source": [
    "# Initialize components\n",
    "reward_model = RewardModel(len(PROMPT_TEMPLATES))\n",
    "question_generator = QuestionGenerator(reward_model=reward_model)\n",
    "\n",
    "# Run RL loop and simulate feedback\n",
    "for round_num, feedback in enumerate(ambiguous_feedbacks, 1):\n",
    "    questions, template_idx, mode = question_generator.generate_clarification_questions(feedback)\n",
    "    print(f\"\\n--- Round {round_num} ---\")\n",
    "    print(f\"Feedback: {feedback}\")\n",
    "    print(f\"Template used: {template_idx+1} (mode: {mode})\")\n",
    "    for i, q in enumerate(questions, 1):\n",
    "        print(f\"Q{i}: {q}\")\n",
    "    # Simulate user feedback (random thumbs up/down for this template)\n",
    "    user_reward = random.choice([0, 1])\n",
    "    print(f\"Simulated user feedback (reward): {user_reward}\")\n",
    "    # Update reward model\n",
    "    reward_model.update(template_idx, user_reward)"
   ]
  },
  {
   "cell_type": "markdown",
   "metadata": {},
   "source": [
    "## Step 3: Visualize Template Rewards and Uncertainty\n",
    "\n",
    "The frontend UI live-plots template rewards and uncertainty (error bars) using Chart.js. Here, we can also visualize the current posterior mean and standard deviation for each template."
   ]
  },
  {
   "cell_type": "code",
   "execution_count": 84,
   "metadata": {},
   "outputs": [
    {
     "data": {
      "image/png": "[encoded data removed]",
      "text/plain": [
       "<Figure size 800x400 with 1 Axes>"
      ]
     },
     "metadata": {},
     "output_type": "display_data"
    }
   ],
   "source": [
    "means = [reward_model.posterior_mean(i) for i in range(len(PROMPT_TEMPLATES))]\n",
    "stds = [reward_model.posterior_std(i) for i in range(len(PROMPT_TEMPLATES))]\n",
    "x = np.arange(len(PROMPT_TEMPLATES))\n",
    "\n",
    "plt.figure(figsize=(8, 4))\n",
    "plt.bar(x, means, yerr=stds, capsize=8, alpha=0.7)\n",
    "plt.xticks(x, [f\"Template {i+1}\" for i in x])\n",
    "plt.ylabel(\"Posterior Mean Reward\")\n",
    "plt.title(\"Template Rewards and Uncertainty (Posterior Std)\")\n",
    "plt.ylim(0, 1)\n",
    "plt.show()"
   ]
  },
  {
   "cell_type": "markdown",
   "metadata": {},
   "source": [
    "## Step 4: Exploration vs. Exploitation Analytics\n",
    "\n",
    "ClarifyBot logs every template selection and whether it was an exploration or exploitation step in `template_selection.log`. We can analyze and visualize this data to understand the RL strategy in action."
   ]
  },
  {
   "cell_type": "code",
   "execution_count": 85,
   "metadata": {},
   "outputs": [
    {
     "name": "stdout",
     "output_type": "stream",
     "text": [
      "Unique values in 'mode': ['exploit' 'rate']\n"
     ]
    },
    {
     "data": {
      "image/png": "[encoded data removed]",
      "text/plain": [
       "<Figure size 640x480 with 1 Axes>"
      ]
     },
     "metadata": {},
     "output_type": "display_data"
    },
    {
     "data": {
      "image/png": "[encoded data removed]",
      "text/plain": [
       "<Figure size 1000x200 with 1 Axes>"
      ]
     },
     "metadata": {},
     "output_type": "display_data"
    }
   ],
   "source": [
    "if 'mode' in df.columns:\n",
    "    print(\"Unique values in 'mode':\", df['mode'].unique())\n",
    "    mode_counts = df['mode'].value_counts()\n",
    "    if not mode_counts.empty:\n",
    "        mode_counts.plot(kind=\"bar\", color=[\"#4e79a7\", \"#f28e2b\"])\n",
    "        plt.title(\"Total Exploration vs. Exploitation Steps\")\n",
    "        plt.ylabel(\"Count\")\n",
    "        plt.xlabel(\"Mode\")\n",
    "        plt.show()\n",
    "    else:\n",
    "        print(\"No valid exploration/exploitation data to plot.\")\n",
    "    if not df.empty:\n",
    "        # Ensure mode is mapped to numeric and index is used for x-axis\n",
    "        mode_numeric = df[\"mode\"].map({\"explore\": 0, \"exploit\": 1})\n",
    "        # Drop any rows where mapping failed (NaN)\n",
    "        valid = mode_numeric.notnull()\n",
    "        if valid.sum() > 0:\n",
    "            plt.figure(figsize=(10, 2))\n",
    "            plt.plot(df.index[valid], mode_numeric[valid].astype(float), marker=\"o\", linestyle=\"-\")\n",
    "            plt.yticks([0, 1], [\"Explore\", \"Exploit\"])\n",
    "            plt.xlabel(\"Step\")\n",
    "            plt.title(\"Exploration vs. Exploitation Over Time\")\n",
    "            plt.show()\n",
    "        else:\n",
    "            print(\"No valid mapped values for exploration/exploitation time series plot. Check 'mode' column values.\")\n",
    "    else:\n",
    "        print(\"No valid exploration/exploitation data for time series plot.\")\n",
    "else:\n",
    "    print(\"No 'mode' column in log for exploration/exploitation analytics.\")"
   ]
  },
  {
   "cell_type": "markdown",
   "metadata": {},
   "source": [
    "## Step 5: Reward Modeling and Confidence\n",
    "\n",
    "You can use the RewardModel to infer the overall reward from a list of user feedback and summarize preferences."
   ]
  },
  {
   "cell_type": "code",
   "execution_count": 86,
   "metadata": {},
   "outputs": [
    {
     "name": "stdout",
     "output_type": "stream",
     "text": [
      "Simulated feedback list: [1, 0, 0, 1, 1, 0, 0, 0, 0, 0]\n",
      "Inferred average reward: 0.3\n"
     ]
    }
   ],
   "source": [
    "feedback_list = [random.choice([0, 1]) for _ in range(10)]\n",
    "print(\"Simulated feedback list:\", feedback_list)\n",
    "reward = reward_model.infer_reward(feedback_list)\n",
    "print(\"Inferred average reward:\", reward)"
   ]
  },
  {
   "cell_type": "markdown",
   "metadata": {},
   "source": [
    "# Research-Grade RLHF Experiments\n",
    "\n",
    "This section extends the ClarifyBot demo to support research-grade RLHF experiments, including:\n",
    "- Richer (1–5 scale) feedback\n",
    "- Simulated user experiments\n",
    "- Bandit strategy ablation (epsilon-greedy vs. UCB)\n",
    "- Robust logging\n",
    "- Analytics and visualization\n",
    "- Clear documentation for reproducibility\n",
    "\n",
    "---\n",
    "\n",
    "**The following cells implement these features step by step.**"
   ]
  },
  {
   "cell_type": "code",
   "execution_count": 87,
   "metadata": {},
   "outputs": [],
   "source": [
    "# Richer (1–5 scale) feedback and reward model initialization\n",
    "NUM_TEMPLATES = len(PROMPT_TEMPLATES)\n",
    "FEEDBACK_SCALE = [1, 2, 3, 4, 5]  # 1=worst, 5=best\n",
    "\n",
    "class RichRewardModel(RewardModel):\n",
    "    def update(self, template_idx, feedback):\n",
    "        # Accept feedback in 1–5 scale, normalize to [0,1]\n",
    "        norm_reward = (feedback - 1) / 4.0\n",
    "        super().update(template_idx, norm_reward)\n",
    "\n",
    "    def infer_reward(self, feedback_list):\n",
    "        # Accepts a list of 1–5 feedback, returns normalized mean\n",
    "        if not feedback_list:\n",
    "            return 0.0\n",
    "        return sum([(f-1)/4.0 for f in feedback_list]) / len(feedback_list)\n",
    "\n",
    "rich_reward_model = RichRewardModel(NUM_TEMPLATES)\n",
    "question_generator = QuestionGenerator(reward_model=rich_reward_model)"
   ]
  },
  {
   "cell_type": "code",
   "execution_count": 88,
   "metadata": {},
   "outputs": [
    {
     "name": "stdout",
     "output_type": "stream",
     "text": [
      "Template 1: Simulated feedback = 2\n",
      "Template 2: Simulated feedback = 3\n"
     ]
    }
   ],
   "source": [
    "# Simulated user feedback function\n",
    "\n",
    "def simulated_user_feedback(template_idx, true_prefs, noise=0.2):\n",
    "    # true_prefs: list of true mean ratings for each template (1–5)\n",
    "    base = true_prefs[template_idx]\n",
    "    feedback = np.random.normal(base, noise)\n",
    "    feedback = int(np.clip(round(feedback), 1, 5))\n",
    "    return feedback\n",
    "\n",
    "# Example: true preferences for each template (hidden from agent)\n",
    "true_template_prefs = [2, 3, 5, 4]  # Template 3 is best\n",
    "\n",
    "# Example: Simulate feedback\n",
    "for i in range(NUM_TEMPLATES):\n",
    "    print(f\"Template {i+1}: Simulated feedback = {simulated_user_feedback(i, true_template_prefs)}\")"
   ]
  },
  {
   "cell_type": "code",
   "execution_count": 89,
   "metadata": {},
   "outputs": [
    {
     "name": "stdout",
     "output_type": "stream",
     "text": [
      "Bandit ablation experiment complete. Log written to template_selection.log.\n"
     ]
    }
   ],
   "source": [
    "# Bandit Strategy Ablation: Epsilon-Greedy vs. UCB\n",
    "import csv\n",
    "import time\n",
    "\n",
    "N_STEPS = 100\n",
    "EPSILON = 0.2\n",
    "UCB_C = 1.0\n",
    "\n",
    "logfile = \"../template_selection.log\"\n",
    "open(logfile, \"w\").close()  # Clear log\n",
    "\n",
    "results = {\"egreedy\": [], \"ucb\": []}\n",
    "\n",
    "for strategy in [\"egreedy\", \"ucb\"]:\n",
    "    model = RichRewardModel(NUM_TEMPLATES)\n",
    "    counts = [0] * NUM_TEMPLATES\n",
    "    rewards = [0.0] * NUM_TEMPLATES\n",
    "    cum_reward = 0.0\n",
    "    for step in range(N_STEPS):\n",
    "        if strategy == \"egreedy\":\n",
    "            if np.random.rand() < EPSILON:\n",
    "                idx = np.random.choice(NUM_TEMPLATES)\n",
    "                mode = \"explore\"\n",
    "            else:\n",
    "                idx = np.argmax([model.posterior_mean(i) for i in range(NUM_TEMPLATES)])\n",
    "                mode = \"exploit\"\n",
    "        else:  # UCB\n",
    "            total = sum(counts) + 1\n",
    "            ucb_scores = [model.posterior_mean(i) + UCB_C * model.posterior_std(i) / np.sqrt(counts[i]+1) for i in range(NUM_TEMPLATES)]\n",
    "            idx = np.argmax(ucb_scores)\n",
    "            mode = \"ucb\"\n",
    "        feedback = simulated_user_feedback(idx, true_template_prefs)\n",
    "        model.update(idx, feedback)\n",
    "        counts[idx] += 1\n",
    "        rewards[idx] += feedback\n",
    "        cum_reward += feedback\n",
    "        # Log: step, strategy, template_idx, feedback, mode, timestamp\n",
    "        with open(logfile, \"a\") as f:\n",
    "            f.write(f\"{step}\\t{strategy}\\t{idx}\\t{feedback}\\t{mode}\\t{int(time.time())}\\n\")\n",
    "        results[strategy].append(cum_reward)\n",
    "print(\"Bandit ablation experiment complete. Log written to template_selection.log.\")"
   ]
  },
  {
   "cell_type": "code",
   "execution_count": 90,
   "metadata": {},
   "outputs": [
    {
     "name": "stdout",
     "output_type": "stream",
     "text": [
      "Cumulative reward/regret analytics only available for simulated logs with bandit ablation.\n"
     ]
    }
   ],
   "source": [
    "# Analytics: Cumulative Reward, Regret, and Strategy Comparison\n",
    "if LOG_TYPE == 'simulated':\n",
    "    log_path = LOG_PATH\n",
    "    df = pd.read_csv(log_path, names=[\"step\", \"strategy\", \"template_idx\", \"feedback\", \"mode\", \"timestamp\"], delimiter=\"\\t\")\n",
    "    plt.figure(figsize=(8,4))\n",
    "    for strategy in [\"egreedy\", \"ucb\"]:\n",
    "        strat_df = df[df[\"strategy\"] == strategy]\n",
    "        plt.plot(strat_df[\"step\"], strat_df[\"feedback\"].cumsum(), label=f\"{strategy} (cumulative reward)\")\n",
    "    plt.xlabel(\"Step\")\n",
    "    plt.ylabel(\"Cumulative Reward\")\n",
    "    plt.title(\"Bandit Strategy Comparison: Cumulative Reward\")\n",
    "    plt.legend()\n",
    "    plt.show()\n",
    "    optimal = max(true_template_prefs)\n",
    "    df[\"regret\"] = optimal - df[\"feedback\"]\n",
    "    plt.figure(figsize=(8,4))\n",
    "    for strategy in [\"egreedy\", \"ucb\"]:\n",
    "        strat_df = df[df[\"strategy\"] == strategy]\n",
    "        plt.plot(strat_df[\"step\"], strat_df[\"regret\"].cumsum(), label=f\"{strategy} (cumulative regret)\")\n",
    "    plt.xlabel(\"Step\")\n",
    "    plt.ylabel(\"Cumulative Regret\")\n",
    "    plt.title(\"Bandit Strategy Comparison: Cumulative Regret\")\n",
    "    plt.legend()\n",
    "    plt.show()\n",
    "else:\n",
    "    print(\"Cumulative reward/regret analytics only available for simulated logs with bandit ablation.\")"
   ]
  },
  {
   "cell_type": "code",
   "execution_count": 91,
   "metadata": {},
   "outputs": [
    {
     "name": "stdout",
     "output_type": "stream",
     "text": [
      "No 'strategy' column in this log. Showing reward distribution instead.\n",
      "Available columns: ['template_idx', 'mode', 'reward', 'timestamp']\n"
     ]
    },
    {
     "data": {
      "image/png": "[encoded data removed]",
      "text/plain": [
       "<Figure size 600x300 with 1 Axes>"
      ]
     },
     "metadata": {},
     "output_type": "display_data"
    }
   ],
   "source": [
    "# Advanced analytics: t-test for mean reward between strategies (if both present)\n",
    "import scipy.stats as stats\n",
    "\n",
    "def ttest_strategy_rewards(df):\n",
    "    if df is None or df.empty:\n",
    "        print(\"No data available in the log (df is empty). No analytics can be performed.\\n\\nSuggestions:\\n- Check that the log file path is correct and not empty.\\n- Run the experiment or app to generate log data before running analytics.\\n- If using real user logs, ensure the log format matches expected columns.\\n\")\n",
    "        return\n",
    "    if 'strategy' in df.columns:\n",
    "        strategies = df['strategy'].unique()\n",
    "        if len(strategies) == 2:\n",
    "            rewards1 = df[df['strategy'] == strategies[0]]['reward']\n",
    "            rewards2 = df[df['strategy'] == strategies[1]]['reward']\n",
    "            t_stat, p_val = stats.ttest_ind(rewards1, rewards2, nan_policy='omit')\n",
    "            print(f\"T-test between {strategies[0]} and {strategies[1]}: t={t_stat:.3f}, p={p_val:.3g}\")\n",
    "        else:\n",
    "            print(\"Not exactly two strategies present for t-test.\")\n",
    "    else:\n",
    "        print(\"No 'strategy' column in this log. Showing reward distribution instead.\")\n",
    "        print(f\"Available columns: {list(df.columns)}\")\n",
    "        if 'reward' in df.columns and not df['reward'].empty:\n",
    "            plt.figure(figsize=(6,3))\n",
    "            df['reward'].hist(bins=10, alpha=0.7)\n",
    "            plt.xlabel('Reward')\n",
    "            plt.ylabel('Count')\n",
    "            plt.title('Reward Distribution')\n",
    "            plt.show()\n",
    "        else:\n",
    "            print(\"No 'reward' column found or no reward data for distribution plot.\")\n",
    "\n",
    "ttest_strategy_rewards(df)"
   ]
  },
  {
   "cell_type": "code",
   "execution_count": 92,
   "metadata": {},
   "outputs": [
    {
     "name": "stdout",
     "output_type": "stream",
     "text": [
      "\n",
      "Examples with lowest rewards:\n"
     ]
    },
    {
     "data": {
      "text/html": [
       "<div>\n",
       "<style scoped>\n",
       "    .dataframe tbody tr th:only-of-type {\n",
       "        vertical-align: middle;\n",
       "    }\n",
       "\n",
       "    .dataframe tbody tr th {\n",
       "        vertical-align: top;\n",
       "    }\n",
       "\n",
       "    .dataframe thead th {\n",
       "        text-align: right;\n",
       "    }\n",
       "</style>\n",
       "<table border=\"1\" class=\"dataframe\">\n",
       "  <thead>\n",
       "    <tr style=\"text-align: right;\">\n",
       "      <th></th>\n",
       "      <th>template_idx</th>\n",
       "      <th>mode</th>\n",
       "      <th>reward</th>\n",
       "      <th>timestamp</th>\n",
       "      <th>reward_numeric</th>\n",
       "    </tr>\n",
       "  </thead>\n",
       "  <tbody>\n",
       "    <tr>\n",
       "      <th>4</th>\n",
       "      <td>1</td>\n",
       "      <td>rate</td>\n",
       "      <td>0.0</td>\n",
       "      <td>1.749256e+09</td>\n",
       "      <td>0.0</td>\n",
       "    </tr>\n",
       "    <tr>\n",
       "      <th>7</th>\n",
       "      <td>1</td>\n",
       "      <td>rate</td>\n",
       "      <td>0.0</td>\n",
       "      <td>1.749256e+09</td>\n",
       "      <td>0.0</td>\n",
       "    </tr>\n",
       "    <tr>\n",
       "      <th>2</th>\n",
       "      <td>1</td>\n",
       "      <td>rate</td>\n",
       "      <td>1.0</td>\n",
       "      <td>1.749256e+09</td>\n",
       "      <td>1.0</td>\n",
       "    </tr>\n",
       "    <tr>\n",
       "      <th>3</th>\n",
       "      <td>1</td>\n",
       "      <td>rate</td>\n",
       "      <td>1.0</td>\n",
       "      <td>1.749256e+09</td>\n",
       "      <td>1.0</td>\n",
       "    </tr>\n",
       "    <tr>\n",
       "      <th>8</th>\n",
       "      <td>1</td>\n",
       "      <td>rate</td>\n",
       "      <td>1.0</td>\n",
       "      <td>1.749256e+09</td>\n",
       "      <td>1.0</td>\n",
       "    </tr>\n",
       "  </tbody>\n",
       "</table>\n",
       "</div>"
      ],
      "text/plain": [
       "   template_idx  mode  reward     timestamp  reward_numeric\n",
       "4             1  rate     0.0  1.749256e+09             0.0\n",
       "7             1  rate     0.0  1.749256e+09             0.0\n",
       "2             1  rate     1.0  1.749256e+09             1.0\n",
       "3             1  rate     1.0  1.749256e+09             1.0\n",
       "8             1  rate     1.0  1.749256e+09             1.0"
      ]
     },
     "metadata": {},
     "output_type": "display_data"
    }
   ],
   "source": [
    "# Error analysis: show examples with lowest rewards\n",
    "if 'reward' in df.columns and not df.empty:\n",
    "    # Try to convert reward to numeric, coerce errors to NaN and drop them\n",
    "    df['reward_numeric'] = pd.to_numeric(df['reward'], errors='coerce')\n",
    "    if df['reward_numeric'].notnull().any():\n",
    "        print(\"\\nExamples with lowest rewards:\")\n",
    "        low_reward_examples = df.nsmallest(5, 'reward_numeric')\n",
    "        display(low_reward_examples)\n",
    "    else:\n",
    "        print(\"No valid numeric reward data for error analysis.\")\n",
    "else:\n",
    "    print(\"No 'reward' column for error analysis or df is empty.\")"
   ]
  },
  {
   "cell_type": "code",
   "execution_count": 93,
   "metadata": {},
   "outputs": [
    {
     "name": "stdout",
     "output_type": "stream",
     "text": [
      "Results exported to exported_results.csv\n",
      "Analytics plot exported to analytics_plots.pdf\n"
     ]
    }
   ],
   "source": [
    "# Export results: to CSV and (optionally) PDF\n",
    "export_path = 'exported_results.csv'\n",
    "df.to_csv(export_path, index=False)\n",
    "print(f\"Results exported to {export_path}\")\n",
    "from matplotlib.backends.backend_pdf import PdfPages\n",
    "with PdfPages('analytics_plots.pdf') as pdf:\n",
    "    fig = plt.gcf()\n",
    "    pdf.savefig(fig)\n",
    "    plt.close(fig)\n",
    "print(\"Analytics plot exported to analytics_plots.pdf\")"
   ]
  },
  {
   "cell_type": "markdown",
   "metadata": {},
   "source": [
    "## Real vs. Simulated User Analytics\n",
    "\n",
    "- The above plots compare real user feedback with simulated experiments.\n",
    "- Note any differences in reward distributions, exploration/exploitation rates, or adaptation speed.\n",
    "- Insights: [Add your findings here]\n",
    "\n",
    "---\n",
    "\n",
    "_Use this section to summarize and document your research findings for both simulated and real user RLHF experiments._"
   ]
  }
 ],
 "metadata": {
  "kernelspec": {
   "display_name": "clarifybot",
   "language": "python",
   "name": "python3"
  },
  "language_info": {
   "codemirror_mode": {
    "name": "ipython",
    "version": 3
   },
   "file_extension": ".py",
   "mimetype": "text/x-python",
   "name": "python",
   "nbconvert_exporter": "python",
   "pygments_lexer": "ipython3",
   "version": "3.10.16"
  }
 },
 "nbformat": 4,
 "nbformat_minor": 4
}
