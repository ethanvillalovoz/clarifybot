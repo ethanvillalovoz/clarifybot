{
 "cells": [
  {
   "cell_type": "markdown",
   "metadata": {},
   "source": [
    "# ClarifyBot Demo\n",
    "\n",
    "This notebook demonstrates the functionality of the ClarifyBot system. It showcases how the system processes ambiguous human feedback and generates clarification questions to refine the understanding of user preferences."
   ]
  },
  {
   "cell_type": "code",
   "execution_count": 1,
   "metadata": {},
   "outputs": [],
   "source": [
    "# Import necessary libraries\n",
    "import sys\n",
    "sys.path.append('../src')  # Adjust the path to import modules from the src directory\n",
    "\n",
    "from llm.question_generator import QuestionGenerator\n",
    "from rl.reward_model import RewardModel\n",
    "\n",
    "# Initialize the components\n",
    "reward_model = RewardModel()\n",
    "question_generator = QuestionGenerator()\n"
   ]
  },
  {
   "cell_type": "markdown",
   "metadata": {},
   "source": [
    "## Step 1: Simulate Ambiguous Human Feedback\n",
    "\n",
    "In this step, we will simulate some ambiguous feedback that the ClarifyBot will process."
   ]
  },
  {
   "cell_type": "code",
   "execution_count": 2,
   "metadata": {},
   "outputs": [],
   "source": [
    "# Simulated ambiguous feedback\n",
    "ambiguous_feedback = [\n",
    "    \"I like the idea of a robot helping me, but I'm not sure about the speed.\",\n",
    "    \"The robot should be friendly, but I also want it to be efficient.\"\n",
    "]\n"
   ]
  },
  {
   "cell_type": "markdown",
   "metadata": {},
   "source": [
    "## Step 2: Generate Clarification Questions\n",
    "\n",
    "Using the `QuestionGenerator`, we will generate clarification questions based on the ambiguous feedback."
   ]
  },
  {
   "cell_type": "code",
   "execution_count": 3,
   "metadata": {},
   "outputs": [
    {
     "data": {
      "text/plain": [
       "['What do you mean by speed? Are you referring to the speed of the robot or the speed of its actions?',\n",
       " 'Can you clarify what you mean by friendly? What specific behaviors do you expect from the robot?']"
      ]
     },
     "execution_count": 3,
     "metadata": {},
     "output_type": "execute_result"
    }
   ],
   "source": [
    "# Generate clarification questions\n",
    "clarification_questions = question_generator.generate_questions(ambiguous_feedback)\n",
    "clarification_questions\n"
   ]
  },
  {
   "cell_type": "markdown",
   "metadata": {},
   "source": [
    "## Step 3: Process Feedback with Reward Model\n",
    "\n",
    "Next, we will process the feedback using the `RewardModel` to infer the reward functions."
   ]
  },
  {
   "cell_type": "code",
   "execution_count": 4,
   "metadata": {},
   "outputs": [],
   "source": [
    "# Process feedback to infer rewards\n",
    "rewards = reward_model.infer_rewards(ambiguous_feedback)\n",
    "rewards\n"
   ]
  },
  {
   "cell_type": "markdown",
   "metadata": {},
   "source": [
    "## Conclusion\n",
    "\n",
    "In this demo, we have shown how the ClarifyBot processes ambiguous human feedback and generates relevant clarification questions. This interaction helps refine the understanding of user preferences, paving the way for more aligned autonomous systems."
   ]
  }
 ],
 "metadata": {
  "kernelspec": {
   "display_name": "Python 3",
   "language": "python",
   "name": "python3"
  },
  "language_info": {
   "codemirror_mode": {
    "name": "ipython",
    "version": 3
   },
   "file_extension": ".py",
   "mimetype": "text/x-python",
   "name": "python",
   "nbconvert_exporter": "python",
   "pygments_lexer": "ipython3",
   "version": "3.8.5"
  }
 },
 "nbformat": 4,
 "nbformat_minor": 4
}